{
 "cells": [
  {
   "cell_type": "markdown",
   "metadata": {},
   "source": [
    "# NaN analysis"
   ]
  },
  {
   "cell_type": "markdown",
   "metadata": {},
   "source": [
    "## 1. Reading table"
   ]
  },
  {
   "cell_type": "code",
   "execution_count": 1,
   "metadata": {},
   "outputs": [],
   "source": [
    "from runner import io\n",
    "pantanal_df = io.load_table(\"domain\", \"pantanal\")"
   ]
  },
  {
   "cell_type": "code",
   "execution_count": 2,
   "metadata": {},
   "outputs": [
    {
     "data": {
      "text/html": [
       "<div>\n",
       "<style scoped>\n",
       "    .dataframe tbody tr th:only-of-type {\n",
       "        vertical-align: middle;\n",
       "    }\n",
       "\n",
       "    .dataframe tbody tr th {\n",
       "        vertical-align: top;\n",
       "    }\n",
       "\n",
       "    .dataframe thead th {\n",
       "        text-align: right;\n",
       "    }\n",
       "</style>\n",
       "<table border=\"1\" class=\"dataframe\">\n",
       "  <thead>\n",
       "    <tr style=\"text-align: right;\">\n",
       "      <th></th>\n",
       "      <th>location</th>\n",
       "      <th>year</th>\n",
       "      <th>crop</th>\n",
       "      <th>area_ha</th>\n",
       "      <th>type</th>\n",
       "      <th>quantidade_ton</th>\n",
       "      <th>numero_cabecas</th>\n",
       "    </tr>\n",
       "  </thead>\n",
       "  <tbody>\n",
       "    <tr>\n",
       "      <th>5105</th>\n",
       "      <td>Aquidauana (MS)</td>\n",
       "      <td>1985</td>\n",
       "      <td>Arroz (em casca)</td>\n",
       "      <td>NaN</td>\n",
       "      <td>temporario</td>\n",
       "      <td>1575.0</td>\n",
       "      <td>NaN</td>\n",
       "    </tr>\n",
       "    <tr>\n",
       "      <th>5111</th>\n",
       "      <td>Bodoquena (MS)</td>\n",
       "      <td>1985</td>\n",
       "      <td>Arroz (em casca)</td>\n",
       "      <td>NaN</td>\n",
       "      <td>temporario</td>\n",
       "      <td>2000.0</td>\n",
       "      <td>NaN</td>\n",
       "    </tr>\n",
       "    <tr>\n",
       "      <th>5122</th>\n",
       "      <td>Corumbá (MS)</td>\n",
       "      <td>1985</td>\n",
       "      <td>Arroz (em casca)</td>\n",
       "      <td>NaN</td>\n",
       "      <td>temporario</td>\n",
       "      <td>0.0</td>\n",
       "      <td>NaN</td>\n",
       "    </tr>\n",
       "    <tr>\n",
       "      <th>5124</th>\n",
       "      <td>Coxim (MS)</td>\n",
       "      <td>1985</td>\n",
       "      <td>Arroz (em casca)</td>\n",
       "      <td>NaN</td>\n",
       "      <td>temporario</td>\n",
       "      <td>9924.0</td>\n",
       "      <td>NaN</td>\n",
       "    </tr>\n",
       "    <tr>\n",
       "      <th>5144</th>\n",
       "      <td>Ladário (MS)</td>\n",
       "      <td>1985</td>\n",
       "      <td>Arroz (em casca)</td>\n",
       "      <td>NaN</td>\n",
       "      <td>temporario</td>\n",
       "      <td>0.0</td>\n",
       "      <td>NaN</td>\n",
       "    </tr>\n",
       "    <tr>\n",
       "      <th>...</th>\n",
       "      <td>...</td>\n",
       "      <td>...</td>\n",
       "      <td>...</td>\n",
       "      <td>...</td>\n",
       "      <td>...</td>\n",
       "      <td>...</td>\n",
       "      <td>...</td>\n",
       "    </tr>\n",
       "    <tr>\n",
       "      <th>194579</th>\n",
       "      <td>Itiquira (MT)</td>\n",
       "      <td>2020</td>\n",
       "      <td>Bovino</td>\n",
       "      <td>NaN</td>\n",
       "      <td>pecuaria</td>\n",
       "      <td>NaN</td>\n",
       "      <td>336622.0</td>\n",
       "    </tr>\n",
       "    <tr>\n",
       "      <th>194587</th>\n",
       "      <td>Lambari D'Oeste (MT)</td>\n",
       "      <td>2020</td>\n",
       "      <td>Bovino</td>\n",
       "      <td>NaN</td>\n",
       "      <td>pecuaria</td>\n",
       "      <td>NaN</td>\n",
       "      <td>161266.0</td>\n",
       "    </tr>\n",
       "    <tr>\n",
       "      <th>194596</th>\n",
       "      <td>Nossa Senhora do Livramento (MT)</td>\n",
       "      <td>2020</td>\n",
       "      <td>Bovino</td>\n",
       "      <td>NaN</td>\n",
       "      <td>pecuaria</td>\n",
       "      <td>NaN</td>\n",
       "      <td>185903.0</td>\n",
       "    </tr>\n",
       "    <tr>\n",
       "      <th>194616</th>\n",
       "      <td>Poconé (MT)</td>\n",
       "      <td>2020</td>\n",
       "      <td>Bovino</td>\n",
       "      <td>NaN</td>\n",
       "      <td>pecuaria</td>\n",
       "      <td>NaN</td>\n",
       "      <td>531977.0</td>\n",
       "    </tr>\n",
       "    <tr>\n",
       "      <th>194646</th>\n",
       "      <td>Santo Antônio do Leverger (MT)</td>\n",
       "      <td>2020</td>\n",
       "      <td>Bovino</td>\n",
       "      <td>NaN</td>\n",
       "      <td>pecuaria</td>\n",
       "      <td>NaN</td>\n",
       "      <td>525760.0</td>\n",
       "    </tr>\n",
       "  </tbody>\n",
       "</table>\n",
       "<p>6320 rows × 7 columns</p>\n",
       "</div>"
      ],
      "text/plain": [
       "                                location  year              crop  area_ha  \\\n",
       "5105                     Aquidauana (MS)  1985  Arroz (em casca)      NaN   \n",
       "5111                      Bodoquena (MS)  1985  Arroz (em casca)      NaN   \n",
       "5122                        Corumbá (MS)  1985  Arroz (em casca)      NaN   \n",
       "5124                          Coxim (MS)  1985  Arroz (em casca)      NaN   \n",
       "5144                        Ladário (MS)  1985  Arroz (em casca)      NaN   \n",
       "...                                  ...   ...               ...      ...   \n",
       "194579                     Itiquira (MT)  2020            Bovino      NaN   \n",
       "194587              Lambari D'Oeste (MT)  2020            Bovino      NaN   \n",
       "194596  Nossa Senhora do Livramento (MT)  2020            Bovino      NaN   \n",
       "194616                       Poconé (MT)  2020            Bovino      NaN   \n",
       "194646    Santo Antônio do Leverger (MT)  2020            Bovino      NaN   \n",
       "\n",
       "              type  quantidade_ton  numero_cabecas  \n",
       "5105    temporario          1575.0             NaN  \n",
       "5111    temporario          2000.0             NaN  \n",
       "5122    temporario             0.0             NaN  \n",
       "5124    temporario          9924.0             NaN  \n",
       "5144    temporario             0.0             NaN  \n",
       "...            ...             ...             ...  \n",
       "194579    pecuaria             NaN        336622.0  \n",
       "194587    pecuaria             NaN        161266.0  \n",
       "194596    pecuaria             NaN        185903.0  \n",
       "194616    pecuaria             NaN        531977.0  \n",
       "194646    pecuaria             NaN        525760.0  \n",
       "\n",
       "[6320 rows x 7 columns]"
      ]
     },
     "execution_count": 2,
     "metadata": {},
     "output_type": "execute_result"
    }
   ],
   "source": [
    "pantanal_df"
   ]
  },
  {
   "cell_type": "markdown",
   "metadata": {},
   "source": [
    "## 2. Analysis"
   ]
  },
  {
   "cell_type": "markdown",
   "metadata": {},
   "source": [
    "### 2.1 General view"
   ]
  },
  {
   "cell_type": "code",
   "execution_count": 3,
   "metadata": {},
   "outputs": [
    {
     "data": {
      "text/plain": [
       "location          0.000000\n",
       "year              0.000000\n",
       "crop              0.000000\n",
       "area_ha           0.115278\n",
       "type              0.000000\n",
       "quantidade_ton    0.044097\n",
       "numero_cabecas    1.000000\n",
       "dtype: float64"
      ]
     },
     "execution_count": 3,
     "metadata": {},
     "output_type": "execute_result"
    }
   ],
   "source": [
    "pantanal_df.query('type != \"pecuaria\"').isna().mean()"
   ]
  },
  {
   "cell_type": "code",
   "execution_count": 4,
   "metadata": {},
   "outputs": [
    {
     "data": {
      "text/plain": [
       "location          0.000000\n",
       "year              0.000000\n",
       "crop              0.000000\n",
       "area_ha           1.000000\n",
       "type              0.000000\n",
       "quantidade_ton    1.000000\n",
       "numero_cabecas    0.017857\n",
       "dtype: float64"
      ]
     },
     "execution_count": 4,
     "metadata": {},
     "output_type": "execute_result"
    }
   ],
   "source": [
    "pantanal_df.query('type == \"pecuaria\"').isna().mean()"
   ]
  },
  {
   "cell_type": "markdown",
   "metadata": {},
   "source": [
    "### 2.2 By year view"
   ]
  },
  {
   "cell_type": "code",
   "execution_count": 5,
   "metadata": {},
   "outputs": [
    {
     "data": {
      "text/plain": [
       "year\n",
       "1986    2\n",
       "1987    2\n",
       "1988    2\n",
       "1989    1\n",
       "1990    1\n",
       "1991    1\n",
       "1992    1\n",
       "Name: location, dtype: int64"
      ]
     },
     "execution_count": 5,
     "metadata": {},
     "output_type": "execute_result"
    }
   ],
   "source": [
    "(\n",
    "    pantanal_df\n",
    "    .query('type == \"pecuaria\"')\n",
    "    [pantanal_df.query('type == \"pecuaria\"').numero_cabecas.isna()]\n",
    "    .groupby(['year'])\n",
    "    .location.count()\n",
    ")"
   ]
  },
  {
   "cell_type": "code",
   "execution_count": 6,
   "metadata": {},
   "outputs": [
    {
     "data": {
      "text/plain": [
       "year\n",
       "1985    22\n",
       "1986    24\n",
       "1987    24\n",
       "1988    24\n",
       "1989    16\n",
       "1990    20\n",
       "1991    20\n",
       "1992    18\n",
       "1993     8\n",
       "1994     8\n",
       "1995     8\n",
       "1996    10\n",
       "1997     8\n",
       "1998     2\n",
       "1999     2\n",
       "2000     2\n",
       "2001     2\n",
       "2002     4\n",
       "2003     2\n",
       "2004     2\n",
       "2005     2\n",
       "2006     2\n",
       "2007     2\n",
       "2008     2\n",
       "2009     2\n",
       "2010     2\n",
       "2011     2\n",
       "2012     2\n",
       "2013     2\n",
       "2014     2\n",
       "2015     2\n",
       "2016     2\n",
       "2017     2\n",
       "2018     2\n",
       "Name: location, dtype: int64"
      ]
     },
     "execution_count": 6,
     "metadata": {},
     "output_type": "execute_result"
    }
   ],
   "source": [
    "(\n",
    "    pantanal_df\n",
    "    .query('type != \"pecuaria\"')\n",
    "    [pantanal_df.query('type != \"pecuaria\"').quantidade_ton.isna()]\n",
    "    .groupby(['year'])\n",
    "    .location.count()\n",
    ")"
   ]
  },
  {
   "cell_type": "markdown",
   "metadata": {},
   "source": [
    "### 2.3 By location view"
   ]
  },
  {
   "cell_type": "code",
   "execution_count": 7,
   "metadata": {},
   "outputs": [
    {
     "data": {
      "text/plain": [
       "location\n",
       "Lambari D'Oeste (MT)    7\n",
       "Sonora (MS)             3\n",
       "Name: year, dtype: int64"
      ]
     },
     "execution_count": 7,
     "metadata": {},
     "output_type": "execute_result"
    }
   ],
   "source": [
    "\n",
    "(\n",
    "    pantanal_df\n",
    "    .query('type == \"pecuaria\"')\n",
    "    [pantanal_df.query('type == \"pecuaria\"')\n",
    "     .numero_cabecas.isna()]\n",
    "    .groupby(['location'])\n",
    "    .year\n",
    "    .count()\n",
    ")"
   ]
  },
  {
   "cell_type": "code",
   "execution_count": 8,
   "metadata": {},
   "outputs": [
    {
     "data": {
      "text/plain": [
       "location\n",
       "Corumbá (MS)                     24\n",
       "Coxim (MS)                        4\n",
       "Itiquira (MT)                     8\n",
       "Ladário (MS)                     16\n",
       "Lambari D'Oeste (MT)             80\n",
       "Miranda (MS)                      4\n",
       "Porto Murtinho (MS)              48\n",
       "Rio Verde de Mato Grosso (MS)    10\n",
       "Sonora (MS)                      60\n",
       "Name: year, dtype: int64"
      ]
     },
     "execution_count": 8,
     "metadata": {},
     "output_type": "execute_result"
    }
   ],
   "source": [
    "\n",
    "(\n",
    "    pantanal_df\n",
    "    .query('type != \"pecuaria\"')\n",
    "    [pantanal_df.query('type != \"pecuaria\"')\n",
    "     .quantidade_ton.isna()]\n",
    "    .groupby(['location'])\n",
    "    .year\n",
    "    .count()\n",
    ")"
   ]
  },
  {
   "cell_type": "markdown",
   "metadata": {},
   "source": [
    "### 2.4 By crop view"
   ]
  },
  {
   "cell_type": "code",
   "execution_count": 9,
   "metadata": {},
   "outputs": [
    {
     "data": {
      "text/plain": [
       "crop\n",
       "Algodão herbáceo (em caroço)    12\n",
       "Arroz (em casca)                12\n",
       "Café (em grão) Total            79\n",
       "Cana-de-açúcar                  12\n",
       "Feijão (em grão)                12\n",
       "Laranja                         79\n",
       "Mandioca                        12\n",
       "Milho (em grão)                 12\n",
       "Soja (em grão)                  12\n",
       "Trigo (em grão)                 12\n",
       "Name: year, dtype: int64"
      ]
     },
     "execution_count": 9,
     "metadata": {},
     "output_type": "execute_result"
    }
   ],
   "source": [
    "(\n",
    "    pantanal_df\n",
    "    .query('type != \"pecuaria\"')\n",
    "    [pantanal_df.query('type != \"pecuaria\"').quantidade_ton.isna()]\n",
    "    .groupby(['crop'])\n",
    "    .year\n",
    "    .count()\n",
    ")"
   ]
  }
 ],
 "metadata": {
  "kernelspec": {
   "display_name": "Python 3.9.12 ('pantanal')",
   "language": "python",
   "name": "python3"
  },
  "language_info": {
   "codemirror_mode": {
    "name": "ipython",
    "version": 3
   },
   "file_extension": ".py",
   "mimetype": "text/x-python",
   "name": "python",
   "nbconvert_exporter": "python",
   "pygments_lexer": "ipython3",
   "version": "3.9.12"
  },
  "orig_nbformat": 4,
  "vscode": {
   "interpreter": {
    "hash": "1021bad19fcaf8fe0b93d81b368970b2fd7cc4af782e6daf67a47807b0edf1f4"
   }
  }
 },
 "nbformat": 4,
 "nbformat_minor": 2
}
