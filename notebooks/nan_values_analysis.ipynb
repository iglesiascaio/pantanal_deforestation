{
 "cells": [
  {
   "cell_type": "markdown",
   "metadata": {},
   "source": [
    "# NaN analysis"
   ]
  },
  {
   "cell_type": "markdown",
   "metadata": {},
   "source": [
    "## 1. Reading table"
   ]
  },
  {
   "cell_type": "code",
   "execution_count": 1,
   "metadata": {},
   "outputs": [],
   "source": [
    "from runner import io\n",
    "pantanal_df = io.load_table(\"domain\", \"pantanal\")"
   ]
  },
  {
   "cell_type": "code",
   "execution_count": 2,
   "metadata": {},
   "outputs": [
    {
     "data": {
      "text/html": [
       "<div>\n",
       "<style scoped>\n",
       "    .dataframe tbody tr th:only-of-type {\n",
       "        vertical-align: middle;\n",
       "    }\n",
       "\n",
       "    .dataframe tbody tr th {\n",
       "        vertical-align: top;\n",
       "    }\n",
       "\n",
       "    .dataframe thead th {\n",
       "        text-align: right;\n",
       "    }\n",
       "</style>\n",
       "<table border=\"1\" class=\"dataframe\">\n",
       "  <thead>\n",
       "    <tr style=\"text-align: right;\">\n",
       "      <th></th>\n",
       "      <th>location</th>\n",
       "      <th>year</th>\n",
       "      <th>crop</th>\n",
       "      <th>area_ha</th>\n",
       "      <th>type</th>\n",
       "      <th>quantidade_ton</th>\n",
       "      <th>numero_cabecas</th>\n",
       "      <th>delta_ha</th>\n",
       "      <th>delta_quantidade_ton</th>\n",
       "      <th>delta_nb_heads</th>\n",
       "    </tr>\n",
       "  </thead>\n",
       "  <tbody>\n",
       "    <tr>\n",
       "      <th>0</th>\n",
       "      <td>Aquidauana (MS)</td>\n",
       "      <td>1985</td>\n",
       "      <td>Cana-de-açúcar</td>\n",
       "      <td>NaN</td>\n",
       "      <td>temporario</td>\n",
       "      <td>4200.0</td>\n",
       "      <td>NaN</td>\n",
       "      <td>0.0</td>\n",
       "      <td>0.0</td>\n",
       "      <td>0.0</td>\n",
       "    </tr>\n",
       "    <tr>\n",
       "      <th>1</th>\n",
       "      <td>Bodoquena (MS)</td>\n",
       "      <td>1985</td>\n",
       "      <td>Cana-de-açúcar</td>\n",
       "      <td>NaN</td>\n",
       "      <td>temporario</td>\n",
       "      <td>1200.0</td>\n",
       "      <td>NaN</td>\n",
       "      <td>0.0</td>\n",
       "      <td>0.0</td>\n",
       "      <td>0.0</td>\n",
       "    </tr>\n",
       "    <tr>\n",
       "      <th>2</th>\n",
       "      <td>Corumbá (MS)</td>\n",
       "      <td>1985</td>\n",
       "      <td>Cana-de-açúcar</td>\n",
       "      <td>NaN</td>\n",
       "      <td>temporario</td>\n",
       "      <td>600.0</td>\n",
       "      <td>NaN</td>\n",
       "      <td>0.0</td>\n",
       "      <td>0.0</td>\n",
       "      <td>0.0</td>\n",
       "    </tr>\n",
       "    <tr>\n",
       "      <th>3</th>\n",
       "      <td>Coxim (MS)</td>\n",
       "      <td>1985</td>\n",
       "      <td>Cana-de-açúcar</td>\n",
       "      <td>NaN</td>\n",
       "      <td>temporario</td>\n",
       "      <td>200.0</td>\n",
       "      <td>NaN</td>\n",
       "      <td>0.0</td>\n",
       "      <td>0.0</td>\n",
       "      <td>0.0</td>\n",
       "    </tr>\n",
       "    <tr>\n",
       "      <th>4</th>\n",
       "      <td>Ladário (MS)</td>\n",
       "      <td>1985</td>\n",
       "      <td>Cana-de-açúcar</td>\n",
       "      <td>NaN</td>\n",
       "      <td>temporario</td>\n",
       "      <td>90.0</td>\n",
       "      <td>NaN</td>\n",
       "      <td>0.0</td>\n",
       "      <td>0.0</td>\n",
       "      <td>0.0</td>\n",
       "    </tr>\n",
       "    <tr>\n",
       "      <th>...</th>\n",
       "      <td>...</td>\n",
       "      <td>...</td>\n",
       "      <td>...</td>\n",
       "      <td>...</td>\n",
       "      <td>...</td>\n",
       "      <td>...</td>\n",
       "      <td>...</td>\n",
       "      <td>...</td>\n",
       "      <td>...</td>\n",
       "      <td>...</td>\n",
       "    </tr>\n",
       "    <tr>\n",
       "      <th>3435</th>\n",
       "      <td>Sonora (MS)</td>\n",
       "      <td>2018</td>\n",
       "      <td>Others_temporario</td>\n",
       "      <td>15.0</td>\n",
       "      <td>None</td>\n",
       "      <td>150.0</td>\n",
       "      <td>NaN</td>\n",
       "      <td>0.0</td>\n",
       "      <td>0.0</td>\n",
       "      <td>0.0</td>\n",
       "    </tr>\n",
       "    <tr>\n",
       "      <th>3436</th>\n",
       "      <td>Sonora (MS)</td>\n",
       "      <td>2019</td>\n",
       "      <td>Others_permanente</td>\n",
       "      <td>0.0</td>\n",
       "      <td>None</td>\n",
       "      <td>0.0</td>\n",
       "      <td>NaN</td>\n",
       "      <td>0.0</td>\n",
       "      <td>0.0</td>\n",
       "      <td>0.0</td>\n",
       "    </tr>\n",
       "    <tr>\n",
       "      <th>3437</th>\n",
       "      <td>Sonora (MS)</td>\n",
       "      <td>2019</td>\n",
       "      <td>Others_temporario</td>\n",
       "      <td>315.0</td>\n",
       "      <td>None</td>\n",
       "      <td>1425.0</td>\n",
       "      <td>NaN</td>\n",
       "      <td>300.0</td>\n",
       "      <td>1275.0</td>\n",
       "      <td>0.0</td>\n",
       "    </tr>\n",
       "    <tr>\n",
       "      <th>3438</th>\n",
       "      <td>Sonora (MS)</td>\n",
       "      <td>2020</td>\n",
       "      <td>Others_permanente</td>\n",
       "      <td>0.0</td>\n",
       "      <td>None</td>\n",
       "      <td>0.0</td>\n",
       "      <td>NaN</td>\n",
       "      <td>0.0</td>\n",
       "      <td>0.0</td>\n",
       "      <td>0.0</td>\n",
       "    </tr>\n",
       "    <tr>\n",
       "      <th>3439</th>\n",
       "      <td>Sonora (MS)</td>\n",
       "      <td>2020</td>\n",
       "      <td>Others_temporario</td>\n",
       "      <td>15.0</td>\n",
       "      <td>None</td>\n",
       "      <td>225.0</td>\n",
       "      <td>NaN</td>\n",
       "      <td>0.0</td>\n",
       "      <td>0.0</td>\n",
       "      <td>0.0</td>\n",
       "    </tr>\n",
       "  </tbody>\n",
       "</table>\n",
       "<p>3440 rows × 10 columns</p>\n",
       "</div>"
      ],
      "text/plain": [
       "             location  year               crop  area_ha        type  \\\n",
       "0     Aquidauana (MS)  1985     Cana-de-açúcar      NaN  temporario   \n",
       "1      Bodoquena (MS)  1985     Cana-de-açúcar      NaN  temporario   \n",
       "2        Corumbá (MS)  1985     Cana-de-açúcar      NaN  temporario   \n",
       "3          Coxim (MS)  1985     Cana-de-açúcar      NaN  temporario   \n",
       "4        Ladário (MS)  1985     Cana-de-açúcar      NaN  temporario   \n",
       "...               ...   ...                ...      ...         ...   \n",
       "3435      Sonora (MS)  2018  Others_temporario     15.0        None   \n",
       "3436      Sonora (MS)  2019  Others_permanente      0.0        None   \n",
       "3437      Sonora (MS)  2019  Others_temporario    315.0        None   \n",
       "3438      Sonora (MS)  2020  Others_permanente      0.0        None   \n",
       "3439      Sonora (MS)  2020  Others_temporario     15.0        None   \n",
       "\n",
       "      quantidade_ton  numero_cabecas  delta_ha  delta_quantidade_ton  \\\n",
       "0             4200.0             NaN       0.0                   0.0   \n",
       "1             1200.0             NaN       0.0                   0.0   \n",
       "2              600.0             NaN       0.0                   0.0   \n",
       "3              200.0             NaN       0.0                   0.0   \n",
       "4               90.0             NaN       0.0                   0.0   \n",
       "...              ...             ...       ...                   ...   \n",
       "3435           150.0             NaN       0.0                   0.0   \n",
       "3436             0.0             NaN       0.0                   0.0   \n",
       "3437          1425.0             NaN     300.0                1275.0   \n",
       "3438             0.0             NaN       0.0                   0.0   \n",
       "3439           225.0             NaN       0.0                   0.0   \n",
       "\n",
       "      delta_nb_heads  \n",
       "0                0.0  \n",
       "1                0.0  \n",
       "2                0.0  \n",
       "3                0.0  \n",
       "4                0.0  \n",
       "...              ...  \n",
       "3435             0.0  \n",
       "3436             0.0  \n",
       "3437             0.0  \n",
       "3438             0.0  \n",
       "3439             0.0  \n",
       "\n",
       "[3440 rows x 10 columns]"
      ]
     },
     "execution_count": 2,
     "metadata": {},
     "output_type": "execute_result"
    }
   ],
   "source": [
    "pantanal_df"
   ]
  },
  {
   "cell_type": "markdown",
   "metadata": {},
   "source": [
    "## 2. Analysis"
   ]
  },
  {
   "cell_type": "markdown",
   "metadata": {},
   "source": [
    "### 2.1 General view"
   ]
  },
  {
   "cell_type": "code",
   "execution_count": 3,
   "metadata": {},
   "outputs": [
    {
     "data": {
      "text/plain": [
       "location                0.00000\n",
       "year                    0.00000\n",
       "crop                    0.00000\n",
       "area_ha                 0.05625\n",
       "type                    0.40000\n",
       "quantidade_ton          0.01250\n",
       "numero_cabecas          1.00000\n",
       "delta_ha                0.00000\n",
       "delta_quantidade_ton    0.00000\n",
       "delta_nb_heads          0.00000\n",
       "dtype: float64"
      ]
     },
     "execution_count": 3,
     "metadata": {},
     "output_type": "execute_result"
    }
   ],
   "source": [
    "pantanal_df.query('type != \"pecuaria\"').isna().mean()"
   ]
  },
  {
   "cell_type": "code",
   "execution_count": 4,
   "metadata": {},
   "outputs": [
    {
     "data": {
      "text/plain": [
       "location                0.000000\n",
       "year                    0.000000\n",
       "crop                    0.000000\n",
       "area_ha                 1.000000\n",
       "type                    0.000000\n",
       "quantidade_ton          1.000000\n",
       "numero_cabecas          0.017857\n",
       "delta_ha                0.000000\n",
       "delta_quantidade_ton    0.000000\n",
       "delta_nb_heads          0.000000\n",
       "dtype: float64"
      ]
     },
     "execution_count": 4,
     "metadata": {},
     "output_type": "execute_result"
    }
   ],
   "source": [
    "pantanal_df.query('type == \"pecuaria\"').isna().mean()"
   ]
  },
  {
   "cell_type": "markdown",
   "metadata": {},
   "source": [
    "### 2.2 By year view"
   ]
  },
  {
   "cell_type": "code",
   "execution_count": 5,
   "metadata": {},
   "outputs": [
    {
     "data": {
      "text/plain": [
       "year\n",
       "1986    2\n",
       "1987    2\n",
       "1988    2\n",
       "1989    1\n",
       "1990    1\n",
       "1991    1\n",
       "1992    1\n",
       "Name: location, dtype: int64"
      ]
     },
     "execution_count": 5,
     "metadata": {},
     "output_type": "execute_result"
    }
   ],
   "source": [
    "(\n",
    "    pantanal_df\n",
    "    .query('type == \"pecuaria\"')\n",
    "    [pantanal_df.query('type == \"pecuaria\"').numero_cabecas.isna()]\n",
    "    .groupby(['year'])\n",
    "    .location.count()\n",
    ")"
   ]
  },
  {
   "cell_type": "code",
   "execution_count": 6,
   "metadata": {},
   "outputs": [
    {
     "data": {
      "text/plain": [
       "year\n",
       "1985    6\n",
       "1986    6\n",
       "1987    6\n",
       "1988    6\n",
       "1989    3\n",
       "1990    3\n",
       "1991    3\n",
       "1992    3\n",
       "Name: location, dtype: int64"
      ]
     },
     "execution_count": 6,
     "metadata": {},
     "output_type": "execute_result"
    }
   ],
   "source": [
    "(\n",
    "    pantanal_df\n",
    "    .query('type != \"pecuaria\"')\n",
    "    [pantanal_df.query('type != \"pecuaria\"').quantidade_ton.isna()]\n",
    "    .groupby(['year'])\n",
    "    .location.count()\n",
    ")"
   ]
  },
  {
   "cell_type": "markdown",
   "metadata": {},
   "source": [
    "### 2.3 By location view"
   ]
  },
  {
   "cell_type": "code",
   "execution_count": 7,
   "metadata": {},
   "outputs": [
    {
     "data": {
      "text/plain": [
       "location\n",
       "Lambari D'Oeste (MT)    7\n",
       "Sonora (MS)             3\n",
       "Name: year, dtype: int64"
      ]
     },
     "execution_count": 7,
     "metadata": {},
     "output_type": "execute_result"
    }
   ],
   "source": [
    "\n",
    "(\n",
    "    pantanal_df\n",
    "    .query('type == \"pecuaria\"')\n",
    "    [pantanal_df.query('type == \"pecuaria\"')\n",
    "     .numero_cabecas.isna()]\n",
    "    .groupby(['location'])\n",
    "    .year\n",
    "    .count()\n",
    ")"
   ]
  },
  {
   "cell_type": "code",
   "execution_count": 8,
   "metadata": {},
   "outputs": [
    {
     "data": {
      "text/plain": [
       "location\n",
       "Lambari D'Oeste (MT)    24\n",
       "Sonora (MS)             12\n",
       "Name: year, dtype: int64"
      ]
     },
     "execution_count": 8,
     "metadata": {},
     "output_type": "execute_result"
    }
   ],
   "source": [
    "\n",
    "(\n",
    "    pantanal_df\n",
    "    .query('type != \"pecuaria\"')\n",
    "    [pantanal_df.query('type != \"pecuaria\"')\n",
    "     .quantidade_ton.isna()]\n",
    "    .groupby(['location'])\n",
    "    .year\n",
    "    .count()\n",
    ")"
   ]
  },
  {
   "cell_type": "markdown",
   "metadata": {},
   "source": [
    "### 2.4 By crop view"
   ]
  },
  {
   "cell_type": "code",
   "execution_count": 9,
   "metadata": {},
   "outputs": [
    {
     "data": {
      "text/plain": [
       "crop\n",
       "Cana-de-açúcar     12\n",
       "Milho (em grão)    12\n",
       "Soja (em grão)     12\n",
       "Name: year, dtype: int64"
      ]
     },
     "execution_count": 9,
     "metadata": {},
     "output_type": "execute_result"
    }
   ],
   "source": [
    "(\n",
    "    pantanal_df\n",
    "    .query('type != \"pecuaria\"')\n",
    "    [pantanal_df.query('type != \"pecuaria\"').quantidade_ton.isna()]\n",
    "    .groupby(['crop'])\n",
    "    .year\n",
    "    .count()\n",
    ")"
   ]
  }
 ],
 "metadata": {
  "kernelspec": {
   "display_name": "Python 3.9.12 ('pantanal')",
   "language": "python",
   "name": "python3"
  },
  "language_info": {
   "codemirror_mode": {
    "name": "ipython",
    "version": 3
   },
   "file_extension": ".py",
   "mimetype": "text/x-python",
   "name": "python",
   "nbconvert_exporter": "python",
   "pygments_lexer": "ipython3",
   "version": "3.9.12"
  },
  "orig_nbformat": 4,
  "vscode": {
   "interpreter": {
    "hash": "1021bad19fcaf8fe0b93d81b368970b2fd7cc4af782e6daf67a47807b0edf1f4"
   }
  }
 },
 "nbformat": 4,
 "nbformat_minor": 2
}
