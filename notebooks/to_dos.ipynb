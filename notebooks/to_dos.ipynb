{
 "cells": [
  {
   "cell_type": "markdown",
   "metadata": {},
   "source": [
    "# TO-DOs\n",
    "- olhar dados de queimada (https://queimadas.dgi.inpe.br/queimadas/dados-abertos/)\n",
    "- recalcular dados de desmatamento \n",
    "- procurar dados de leis\n",
    "- entender quedas e picos dos dados de desmatamento\n",
    "- pensar em fazer lag entre desmatamento e produção agrícola\n",
    "- fazer série temporal da produção agrícola "
   ]
  }
 ],
 "metadata": {
  "language_info": {
   "name": "python"
  },
  "orig_nbformat": 4
 },
 "nbformat": 4,
 "nbformat_minor": 2
}
